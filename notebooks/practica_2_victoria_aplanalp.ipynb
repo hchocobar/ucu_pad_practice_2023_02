{
 "nbformat": 4,
 "nbformat_minor": 0,
 "metadata": {
  "colab": {
   "provenance": [],
   "authorship_tag": "ABX9TyO8kC0EL8XYhbE9Jsk+sba/",
   "include_colab_link": true
  },
  "kernelspec": {
   "name": "python3",
   "language": "python",
   "display_name": "Python 3 (ipykernel)"
  },
  "language_info": {
   "name": "python"
  }
 },
 "cells": [
  {
   "cell_type": "code",
   "execution_count": 2,
   "metadata": {
    "id": "xFYOov4V8MyH",
    "ExecuteTime": {
     "end_time": "2024-11-01T02:52:38.319031500Z",
     "start_time": "2024-11-01T02:52:38.288440600Z"
    }
   },
   "outputs": [],
   "source": [
    "import pandas as pd"
   ]
  },
  {
   "cell_type": "code",
   "source": [
    "# Se crea un dataframe en el que se muestran los datos correspondientes a la encuesta nacional de inmunización infantil de Estados Unidos en 2017\n",
    "archivo_csv = \"C:\\\\Users\\\\USUARIO\\\\Downloads\\\\NISPUF17 (3).csv\"\n",
    "df = pd.read_csv(archivo_csv)\n",
    "print('DataFrame: ')\n",
    "df.head() # Lo utilizo para que el dataframe solo muestre las primeras 5 filas"
   ],
   "metadata": {
    "colab": {
     "base_uri": "https://localhost:8080/",
     "height": 290
    },
    "id": "PX21Koyb8mZZ",
    "outputId": "f44f579f-8fe6-49cf-e47f-18b85b8f850c",
    "ExecuteTime": {
     "end_time": "2024-11-01T02:59:35.376902400Z",
     "start_time": "2024-11-01T02:59:33.970810400Z"
    }
   },
   "execution_count": 6,
   "outputs": [
    {
     "name": "stdout",
     "output_type": "stream",
     "text": [
      "DataFrame: \n"
     ]
    },
    {
     "data": {
      "text/plain": "   Unnamed: 0  SEQNUMC  SEQNUMHH  PDAT    PROVWT_D     RDDWT_D  STRATUM  YEAR  \\\n0           1   128521     12852     2         NaN  235.916956     1031  2017   \n1           2    10741      1074     2         NaN  957.353840     1068  2017   \n2           3   220011     22001     2         NaN  189.611299     1050  2017   \n3           4    86131      8613     1  675.430817  333.447418     1040  2017   \n4           5   227141     22714     1  482.617748  278.768063     1008  2017   \n\n   AGECPOXR  HAD_CPOX  ...  XVRCTY2  XVRCTY3  XVRCTY4  XVRCTY5  XVRCTY6  \\\n0       NaN         2  ...                        NaN      NaN      NaN   \n1       NaN         2  ...                        NaN      NaN      NaN   \n2       NaN         2  ...                        NaN      NaN      NaN   \n3       NaN         2  ...                        NaN      NaN      NaN   \n4       NaN         2  ...                        NaN      NaN      NaN   \n\n   XVRCTY7  XVRCTY8  XVRCTY9  INS_STAT2_I  INS_BREAK_I  \n0      NaN      NaN      NaN          NaN          NaN  \n1      NaN      NaN      NaN          NaN          NaN  \n2      NaN      NaN      NaN          NaN          NaN  \n3      NaN      NaN      NaN          1.0          2.0  \n4      NaN      NaN      NaN          2.0          1.0  \n\n[5 rows x 454 columns]",
      "text/html": "<div>\n<style scoped>\n    .dataframe tbody tr th:only-of-type {\n        vertical-align: middle;\n    }\n\n    .dataframe tbody tr th {\n        vertical-align: top;\n    }\n\n    .dataframe thead th {\n        text-align: right;\n    }\n</style>\n<table border=\"1\" class=\"dataframe\">\n  <thead>\n    <tr style=\"text-align: right;\">\n      <th></th>\n      <th>Unnamed: 0</th>\n      <th>SEQNUMC</th>\n      <th>SEQNUMHH</th>\n      <th>PDAT</th>\n      <th>PROVWT_D</th>\n      <th>RDDWT_D</th>\n      <th>STRATUM</th>\n      <th>YEAR</th>\n      <th>AGECPOXR</th>\n      <th>HAD_CPOX</th>\n      <th>...</th>\n      <th>XVRCTY2</th>\n      <th>XVRCTY3</th>\n      <th>XVRCTY4</th>\n      <th>XVRCTY5</th>\n      <th>XVRCTY6</th>\n      <th>XVRCTY7</th>\n      <th>XVRCTY8</th>\n      <th>XVRCTY9</th>\n      <th>INS_STAT2_I</th>\n      <th>INS_BREAK_I</th>\n    </tr>\n  </thead>\n  <tbody>\n    <tr>\n      <th>0</th>\n      <td>1</td>\n      <td>128521</td>\n      <td>12852</td>\n      <td>2</td>\n      <td>NaN</td>\n      <td>235.916956</td>\n      <td>1031</td>\n      <td>2017</td>\n      <td>NaN</td>\n      <td>2</td>\n      <td>...</td>\n      <td></td>\n      <td></td>\n      <td>NaN</td>\n      <td>NaN</td>\n      <td>NaN</td>\n      <td>NaN</td>\n      <td>NaN</td>\n      <td>NaN</td>\n      <td>NaN</td>\n      <td>NaN</td>\n    </tr>\n    <tr>\n      <th>1</th>\n      <td>2</td>\n      <td>10741</td>\n      <td>1074</td>\n      <td>2</td>\n      <td>NaN</td>\n      <td>957.353840</td>\n      <td>1068</td>\n      <td>2017</td>\n      <td>NaN</td>\n      <td>2</td>\n      <td>...</td>\n      <td></td>\n      <td></td>\n      <td>NaN</td>\n      <td>NaN</td>\n      <td>NaN</td>\n      <td>NaN</td>\n      <td>NaN</td>\n      <td>NaN</td>\n      <td>NaN</td>\n      <td>NaN</td>\n    </tr>\n    <tr>\n      <th>2</th>\n      <td>3</td>\n      <td>220011</td>\n      <td>22001</td>\n      <td>2</td>\n      <td>NaN</td>\n      <td>189.611299</td>\n      <td>1050</td>\n      <td>2017</td>\n      <td>NaN</td>\n      <td>2</td>\n      <td>...</td>\n      <td></td>\n      <td></td>\n      <td>NaN</td>\n      <td>NaN</td>\n      <td>NaN</td>\n      <td>NaN</td>\n      <td>NaN</td>\n      <td>NaN</td>\n      <td>NaN</td>\n      <td>NaN</td>\n    </tr>\n    <tr>\n      <th>3</th>\n      <td>4</td>\n      <td>86131</td>\n      <td>8613</td>\n      <td>1</td>\n      <td>675.430817</td>\n      <td>333.447418</td>\n      <td>1040</td>\n      <td>2017</td>\n      <td>NaN</td>\n      <td>2</td>\n      <td>...</td>\n      <td></td>\n      <td></td>\n      <td>NaN</td>\n      <td>NaN</td>\n      <td>NaN</td>\n      <td>NaN</td>\n      <td>NaN</td>\n      <td>NaN</td>\n      <td>1.0</td>\n      <td>2.0</td>\n    </tr>\n    <tr>\n      <th>4</th>\n      <td>5</td>\n      <td>227141</td>\n      <td>22714</td>\n      <td>1</td>\n      <td>482.617748</td>\n      <td>278.768063</td>\n      <td>1008</td>\n      <td>2017</td>\n      <td>NaN</td>\n      <td>2</td>\n      <td>...</td>\n      <td></td>\n      <td></td>\n      <td>NaN</td>\n      <td>NaN</td>\n      <td>NaN</td>\n      <td>NaN</td>\n      <td>NaN</td>\n      <td>NaN</td>\n      <td>2.0</td>\n      <td>1.0</td>\n    </tr>\n  </tbody>\n</table>\n<p>5 rows × 454 columns</p>\n</div>"
     },
     "execution_count": 6,
     "metadata": {},
     "output_type": "execute_result"
    }
   ]
  },
  {
   "cell_type": "markdown",
   "source": [
    "Pregunta 1\n",
    "Escribe una función llamada proportion_of_education que devuelva la proporción de niños en el dataset que tuvieron una madre con los niveles de educación: igual a menor de secundaria (<12), secundaria (12), mayor que secundaria pero sin ser universitaria graduada (>12) y con título universitario."
   ],
   "metadata": {
    "id": "6u9_Apar_weN"
   }
  },
  {
   "cell_type": "code",
   "source": [
    "# Para resolver\n",
    "def proportion_of_education(df):\n",
    "  educacion_menos_secundaria = len(df[df['EDUC1'] == 1])\n",
    "  educacion_secundaria = len(df[df['EDUC1'] == 2])\n",
    "  educacion_mayor_secundaria_no_uni = len(df[df['EDUC1'] == 3])\n",
    "  educacion_mayor_secundaria_uni = len(df[df['EDUC1'] == 4])\n",
    "\n",
    "  total = len(df)\n",
    "\n",
    "  proporciones = {'Educación menor a secundaria:' : educacion_menos_secundaria / total,\n",
    "                  'Educación igual a secundaria:' : educacion_secundaria / total,\n",
    "                  'Educación mayor a secundaria pero no universitaria:' : educacion_mayor_secundaria_no_uni / total,\n",
    "                  'Educacion mayor a secundaria y universitaria:' : educacion_mayor_secundaria_uni / total}\n",
    "  return proporciones\n",
    "\n",
    "resultados = proportion_of_education(df)\n",
    "print('Resultados: ')\n",
    "print(resultados)"
   ],
   "metadata": {
    "colab": {
     "base_uri": "https://localhost:8080/"
    },
    "id": "I3rkXIfP_8Pl",
    "outputId": "a6d57eec-071d-4064-8404-7384bb3e2bdd",
    "ExecuteTime": {
     "end_time": "2024-11-01T03:00:27.682745800Z",
     "start_time": "2024-11-01T03:00:27.574326Z"
    }
   },
   "execution_count": 7,
   "outputs": [
    {
     "name": "stdout",
     "output_type": "stream",
     "text": [
      "Resultados: \n",
      "{'Educación menor a secundaria:': 0.10202002459160373, 'Educación igual a secundaria:': 0.172352011241876, 'Educación mayor a secundaria pero no universitaria:': 0.24588090637625154, 'Educacion mayor a secundaria y universitaria:': 0.47974705779026877}\n"
     ]
    }
   ]
  },
  {
   "cell_type": "markdown",
   "source": [
    "Pregunta 2\n",
    "Exploremos la relación entre ser alimentado con leche materna (fed breast milk) cuando era niño y recibir una vacuna contra la influenza estacional (seasonal influenza) de un proveedor de atención médica."
   ],
   "metadata": {
    "id": "QmBxzToQXVCo"
   }
  },
  {
   "cell_type": "code",
   "source": [
    "def average_influenza_doses(df):\n",
    " alimentado_leche_materna = df[df['CBF_01'] == 1]\n",
    " no_alimentado_leche_materna = df[df['CBF_01'] == 2]\n",
    "\n",
    " promedio_vacunas_leche_materna = alimentado_leche_materna['P_NUMFLU'].mean()\n",
    " promedio_vacunas_no_leche_materna = no_alimentado_leche_materna['P_NUMFLU'].mean()\n",
    "\n",
    " return (promedio_vacunas_leche_materna, promedio_vacunas_no_leche_materna)\n",
    "\n",
    "resultados = average_influenza_doses(df)\n",
    "print(\"Número promedio de vacunas contra la influenza para niños alimentados con leche materna:\", resultados[0])\n",
    "print(\"Número promedio de vacunas contra la influenza para niños no alimentados con leche materna:\", resultados[1])"
   ],
   "metadata": {
    "colab": {
     "base_uri": "https://localhost:8080/"
    },
    "id": "1_mxXlYXSc8W",
    "outputId": "1521f2d7-3fe1-422a-f7ad-3e6544e9d94e",
    "ExecuteTime": {
     "end_time": "2024-11-01T03:00:58.820862800Z",
     "start_time": "2024-11-01T03:00:58.729397Z"
    }
   },
   "execution_count": 8,
   "outputs": [
    {
     "name": "stdout",
     "output_type": "stream",
     "text": [
      "Número promedio de vacunas contra la influenza para niños alimentados con leche materna: 1.8799187420058687\n",
      "Número promedio de vacunas contra la influenza para niños no alimentados con leche materna: 1.5963945918878317\n"
     ]
    }
   ]
  },
  {
   "cell_type": "markdown",
   "source": [
    "Pregunta 3\n",
    "Sería interesante ver si hay evidencia de un vínculo entre la efectividad de la vacuna y el sexo del niño. Calcule el ratio entre el número de niños que contrajeron varicela (chickenpox) pero que fueron vacunados contra ella (al menos una dosis) versus los que fueron vacunados y no contrajeron varicela."
   ],
   "metadata": {
    "id": "nIf88hE6afbu"
   }
  },
  {
   "cell_type": "code",
   "source": [
    "def chickenpox_by_sex(df):\n",
    "  vacunados_tuvieron_varicela = df[(df['HAD_CPOX'] == 1) & (df['P_NUMVRC'] >= 1)]\n",
    "  vacunados_no_tuvieron_varicela = df[(df['HAD_CPOX'] == 2) & (df['P_NUMVRC'] >= 1)]\n",
    "\n",
    "  ratio_hombres = len(vacunados_tuvieron_varicela[vacunados_tuvieron_varicela['SEX'] == 1]) / len(vacunados_no_tuvieron_varicela[vacunados_no_tuvieron_varicela['SEX'] == 1])\n",
    "  ratio_mujeres = len(vacunados_tuvieron_varicela[vacunados_tuvieron_varicela['SEX'] == 2]) / len(vacunados_no_tuvieron_varicela[vacunados_no_tuvieron_varicela['SEX'] == 2])\n",
    "\n",
    "  ratios = {'Hombres: ' : ratio_hombres,\n",
    "            'Mujeres: ': ratio_mujeres}\n",
    "\n",
    "  return ratios\n",
    "\n",
    "resultados3 = chickenpox_by_sex(df)\n",
    "print(resultados3)"
   ],
   "metadata": {
    "colab": {
     "base_uri": "https://localhost:8080/"
    },
    "id": "WTMsVSzZcjMU",
    "outputId": "ac03836b-1082-45d2-f1e1-ac263cb8fb53",
    "ExecuteTime": {
     "end_time": "2024-11-01T03:07:25.262562300Z",
     "start_time": "2024-11-01T03:07:25.166429Z"
    }
   },
   "execution_count": 10,
   "outputs": [
    {
     "name": "stdout",
     "output_type": "stream",
     "text": [
      "{'Hombres: ': 0.009675583380762664, 'Mujeres: ': 0.0077918259335489565}\n"
     ]
    }
   ]
  }
 ]
}
